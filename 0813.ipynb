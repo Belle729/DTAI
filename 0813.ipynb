{
 "cells": [
  {
   "cell_type": "code",
   "execution_count": 1,
   "metadata": {},
   "outputs": [
    {
     "name": "stdout",
     "output_type": "stream",
     "text": [
      "0813\n"
     ]
    }
   ],
   "source": [
    "print(\"0813\")"
   ]
  },
  {
   "cell_type": "code",
   "execution_count": 2,
   "metadata": {},
   "outputs": [
    {
     "name": "stdout",
     "output_type": "stream",
     "text": [
      "密碼正確\n"
     ]
    }
   ],
   "source": [
    "密碼=int(input(\"請輸入密碼\"))\n",
    "if 密碼==1234:\n",
    "   print(\"密碼正確\")"
   ]
  },
  {
   "cell_type": "code",
   "execution_count": 3,
   "metadata": {},
   "outputs": [
    {
     "name": "stdout",
     "output_type": "stream",
     "text": [
      "出門記得帶傘\n"
     ]
    }
   ],
   "source": [
    "rain=input(\"請輸入今天會不會下雨\")\n",
    "if (rain==\"Y\"or\"y\"):\n",
    "    print(\"出門記得帶傘\")"
   ]
  },
  {
   "cell_type": "code",
   "execution_count": 4,
   "metadata": {},
   "outputs": [
    {
     "name": "stdout",
     "output_type": "stream",
     "text": [
      "密碼錯誤\n"
     ]
    }
   ],
   "source": [
    "密碼=int(input(\"請輸入密碼\"))\n",
    "if 密碼==1234:\n",
    "   print(\"密碼正確\")\n",
    "if 密碼==1111:\n",
    "   print(\"密碼錯誤\")"
   ]
  },
  {
   "cell_type": "code",
   "execution_count": 5,
   "metadata": {},
   "outputs": [
    {
     "name": "stdout",
     "output_type": "stream",
     "text": [
      "密碼錯誤\n"
     ]
    }
   ],
   "source": [
    "密碼=int(input(\"請輸入密碼\"))\n",
    "if 密碼==1234:\n",
    "   print(\"密碼正確\")\n",
    "else:\n",
    "   print(\"密碼錯誤\")"
   ]
  },
  {
   "cell_type": "code",
   "execution_count": 6,
   "metadata": {},
   "outputs": [
    {
     "name": "stdout",
     "output_type": "stream",
     "text": [
      "你輸入的數字是奇數\n"
     ]
    }
   ],
   "source": [
    "偶數判斷=int(input(\"請輸入一個變數\"))\n",
    "if 偶數判斷%2==0:\n",
    "    print(\"你輸入的數字是偶數\")\n",
    "else:\n",
    "    print(\"你輸入的數字是奇數\")"
   ]
  },
  {
   "cell_type": "code",
   "execution_count": 11,
   "metadata": {},
   "outputs": [
    {
     "name": "stdout",
     "output_type": "stream",
     "text": [
      "體溫正常\n"
     ]
    }
   ],
   "source": [
    "體溫判斷=int(input(\"請輸入體溫\"))\n",
    "if 體溫判斷>=37.5:\n",
    "    print(\"體溫過高\")\n",
    "elif 37.4 >體溫判斷 >37:\n",
    "    print(\"體溫略高\")\n",
    "elif 36.9 >體溫判斷>34:\n",
    "    print(\"體溫正常\")\n",
    "else:\n",
    "    print(\"體溫異常請重新測量\")"
   ]
  },
  {
   "cell_type": "code",
   "execution_count": 10,
   "metadata": {},
   "outputs": [
    {
     "name": "stdout",
     "output_type": "stream",
     "text": [
      "C\n"
     ]
    }
   ],
   "source": [
    "成績判斷=int(input(\"請輸入成績\"))\n",
    "if 成績判斷>=90:\n",
    "    print(\"A\")\n",
    "elif 89>成績判斷>80:\n",
    "    print(\"B\")\n",
    "elif 79>成績判斷>70:\n",
    "    print(\"C\")\n",
    "elif 69>成績判斷>60:\n",
    "    print(\"D\")\n",
    "else :\n",
    "    print(\"E\")"
   ]
  },
  {
   "cell_type": "code",
   "execution_count": 15,
   "metadata": {},
   "outputs": [
    {
     "name": "stdout",
     "output_type": "stream",
     "text": [
      "200.0\n"
     ]
    }
   ],
   "source": [
    "價格=int(input(\"請輸入金額\"))\n",
    "if 價格>=1000:\n",
    "    print(價格*0.2)\n",
    "elif 1000>價格>500:\n",
    "    print(價格*0.1)\n",
    "else:\n",
    "    print(價格)"
   ]
  },
  {
   "cell_type": "code",
   "execution_count": 16,
   "metadata": {},
   "outputs": [
    {
     "name": "stdout",
     "output_type": "stream",
     "text": [
      "油量不足，建議加油\n"
     ]
    }
   ],
   "source": [
    "fuel=int(input(\"請輸入油量\"))\n",
    "if fuel<5:\n",
    "    print(\"需要立即加油！\")\n",
    "elif 5<fuel<10:\n",
    "    print(\"油量不足，建議加油\")\n",
    "else:\n",
    "    print((\"油量充足\"))"
   ]
  },
  {
   "cell_type": "code",
   "execution_count": 18,
   "metadata": {},
   "outputs": [
    {
     "name": "stdout",
     "output_type": "stream",
     "text": [
      "6450\n"
     ]
    }
   ],
   "source": [
    "amount=int(input(\"請輸入轉帳金額\"))\n",
    "if amount>10000:\n",
    "    print(amount)\n",
    "elif 5000<amount<10000:\n",
    "    print(amount-50)\n",
    "elif 1000<amount<5000:\n",
    "    print(amount-100)\n",
    "else:\n",
    "    print(amount-150)"
   ]
  },
  {
   "cell_type": "code",
   "execution_count": null,
   "metadata": {},
   "outputs": [],
   "source": []
  }
 ],
 "metadata": {
  "kernelspec": {
   "display_name": "Python 3",
   "language": "python",
   "name": "python3"
  },
  "language_info": {
   "codemirror_mode": {
    "name": "ipython",
    "version": 3
   },
   "file_extension": ".py",
   "mimetype": "text/x-python",
   "name": "python",
   "nbconvert_exporter": "python",
   "pygments_lexer": "ipython3",
   "version": "3.12.4"
  }
 },
 "nbformat": 4,
 "nbformat_minor": 2
}
